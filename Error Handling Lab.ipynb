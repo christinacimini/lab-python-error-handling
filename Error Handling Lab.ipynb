{
 "cells": [
  {
   "cell_type": "code",
   "execution_count": 1,
   "id": "956a1c4a",
   "metadata": {},
   "outputs": [],
   "source": [
    "products = ['t-shirt', 'mug', 'hat', 'book', 'keychain']"
   ]
  },
  {
   "cell_type": "code",
   "execution_count": 2,
   "id": "b6e57b19",
   "metadata": {},
   "outputs": [],
   "source": [
    "def initialize_inventory(products):\n",
    "    inventory = {}\n",
    "    for product in products:\n",
    "        valid_quantity = False\n",
    "        while not valid_quantity:\n",
    "            try:\n",
    "                quantity = int(input(f'What is the quantity of {product}?: '))\n",
    "                # Returns ValueError for negative number\n",
    "                if quantity < 0:\n",
    "                    raise ValueError('Invalid quantity! Please enter a non-negative value.')\n",
    "                valid_quantity = True\n",
    "            # Shows ValueError if otherwise occurs\n",
    "            except ValueError as error:\n",
    "                print(f'Error: {error}')\n",
    "        inventory[product] = quantity\n",
    "    return inventory\n",
    "\n",
    "inventory = initialize_inventory(products)"
   ]
  },
  {
   "cell_type": "code",
   "execution_count": 3,
   "id": "95f83d22",
   "metadata": {},
   "outputs": [
    {
     "data": {
      "text/plain": [
       "{'t-shirt': 0, 'mug': 34, 'hat': 234, 'book': 634, 'keychain': 34}"
      ]
     },
     "execution_count": 3,
     "metadata": {},
     "output_type": "execute_result"
    }
   ],
   "source": [
    "inventory"
   ]
  },
  {
   "cell_type": "code",
   "execution_count": 7,
   "id": "0ecc140a",
   "metadata": {},
   "outputs": [],
   "source": [
    "def get_customer_orders(inventory):\n",
    "    valid_no = False\n",
    "    while not valid_no:\n",
    "        try:\n",
    "            no_of_products = int(input(f'How many products would you like to order? '))\n",
    "            if no_of_products < 0:\n",
    "                raise ValueError(\"Invalid quantity! Please enter a non-negative value.\")\n",
    "            valid_no = True\n",
    "        except ValueError as error:\n",
    "            print(f'Error: {error}')\n",
    "    customer_orders = set()\n",
    "    for item in range(no_of_products):\n",
    "        valid_product = False\n",
    "        while not valid_product:\n",
    "            try:\n",
    "                customer_product = input(f'Choose product {item + 1}: ')\n",
    "                if customer_product not in inventory.keys():\n",
    "                    raise ValueError(\"Invalid product! Please enter a product from inventory.\")\n",
    "                if inventory[customer_product] == 0:\n",
    "                    raise ValueError(\"Sorry! Product out of stock.\")\n",
    "                valid_product = True\n",
    "            except ValueError as error:\n",
    "                print(f'Error: {error}')\n",
    "        customer_orders.add(customer_product)\n",
    "    return customer_orders\n",
    "\n",
    "customer_orders = get_customer_orders(inventory)"
   ]
  },
  {
   "cell_type": "code",
   "execution_count": 8,
   "id": "9c74d798",
   "metadata": {},
   "outputs": [
    {
     "data": {
      "text/plain": [
       "{'book', 'hat'}"
      ]
     },
     "execution_count": 8,
     "metadata": {},
     "output_type": "execute_result"
    }
   ],
   "source": [
    "customer_orders"
   ]
  },
  {
   "cell_type": "code",
   "execution_count": 9,
   "id": "33a7f66a",
   "metadata": {},
   "outputs": [
    {
     "name": "stdout",
     "output_type": "stream",
     "text": [
      "Total Price: $48.4\n"
     ]
    }
   ],
   "source": [
    "def calculate_total_price():\n",
    "    order_prices = {}\n",
    "    for product in customer_orders:\n",
    "        valid_price = False\n",
    "        while not valid_price:\n",
    "            try:\n",
    "                price = float(input(f'Enter the price of {product}: '))\n",
    "                if price < 0:\n",
    "                    raise ValueError(\"Invalid quantity! Please enter a non-negative value.\")\n",
    "                valid_price = True\n",
    "            except ValueError as error:\n",
    "                print(f'Error: {error}')\n",
    "        order_prices[product] = price\n",
    "    total_price = sum(order_prices.values())\n",
    "    print(f'Total Price: ${total_price}')\n",
    "\n",
    "calculate_total_price()"
   ]
  },
  {
   "cell_type": "code",
   "execution_count": 10,
   "id": "846aabe2",
   "metadata": {},
   "outputs": [
    {
     "data": {
      "text/plain": [
       "{'mug': 34, 'hat': 233, 'book': 633, 'keychain': 34}"
      ]
     },
     "execution_count": 10,
     "metadata": {},
     "output_type": "execute_result"
    }
   ],
   "source": [
    "def update_inventory(customer_orders, inventory):\n",
    "    new_inventory = {product: (quantity - 1) if product in customer_orders else quantity for product, quantity in inventory.items()}\n",
    "    filtered_inventory = {product: quantity for product, quantity in new_inventory.items() if quantity != 0}\n",
    "    return filtered_inventory\n",
    "\n",
    "update_inventory(customer_orders, inventory)"
   ]
  },
  {
   "cell_type": "code",
   "execution_count": 11,
   "id": "edef5529",
   "metadata": {},
   "outputs": [
    {
     "name": "stdout",
     "output_type": "stream",
     "text": [
      "Total Products Ordered: 2\n",
      "Percentage of Unique Products Ordered: 40.0%\n"
     ]
    }
   ],
   "source": [
    "def calculate_order_statistics(customer_orders, inventory):\n",
    "    print(f'Total Products Ordered: {len(customer_orders)}')\n",
    "    print(f'Percentage of Unique Products Ordered: {len(customer_orders)/len(inventory) * 100}%')\n",
    "\n",
    "calculate_order_statistics(customer_orders, inventory)\n",
    "    "
   ]
  }
 ],
 "metadata": {
  "kernelspec": {
   "display_name": "Python 3 (ipykernel)",
   "language": "python",
   "name": "python3"
  },
  "language_info": {
   "codemirror_mode": {
    "name": "ipython",
    "version": 3
   },
   "file_extension": ".py",
   "mimetype": "text/x-python",
   "name": "python",
   "nbconvert_exporter": "python",
   "pygments_lexer": "ipython3",
   "version": "3.11.4"
  },
  "toc": {
   "base_numbering": 1,
   "nav_menu": {},
   "number_sections": true,
   "sideBar": true,
   "skip_h1_title": false,
   "title_cell": "Table of Contents",
   "title_sidebar": "Contents",
   "toc_cell": true,
   "toc_position": {},
   "toc_section_display": true,
   "toc_window_display": true
  }
 },
 "nbformat": 4,
 "nbformat_minor": 5
}
